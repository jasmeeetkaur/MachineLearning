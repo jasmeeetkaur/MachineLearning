{
 "cells": [
  {
   "cell_type": "code",
   "execution_count": 10,
   "metadata": {},
   "outputs": [],
   "source": [
    "#importing libraries\n",
    "\n",
    "import numpy as np\n",
    "from keras.models import Sequential\n",
    "from keras.layers import Convolution2D\n",
    "from keras.layers import MaxPooling2D\n",
    "from keras.layers import Flatten\n",
    "from keras.layers import Dense\n",
    "from keras.preprocessing import image\n",
    "import warnings \n",
    "warnings.filterwarnings('ignore')\n"
   ]
  },
  {
   "cell_type": "code",
   "execution_count": 11,
   "metadata": {},
   "outputs": [],
   "source": [
    "#initialize the convolutional neural network\n",
    "classifier = Sequential()"
   ]
  },
  {
   "cell_type": "code",
   "execution_count": 12,
   "metadata": {},
   "outputs": [],
   "source": [
    "#step 1 convolution\n",
    "classifier.add(Convolution2D(32,3,3,input_shape = (64,64,3),activation = 'relu'))\n",
    "\n",
    "#step 2 - Pooling\n",
    "classifier.add(MaxPooling2D(pool_size = (2,2)))\n",
    "\n",
    "#second layer\n",
    "classifier.add(Convolution2D(32,3,3,activation = 'relu'))\n",
    "classifier.add(MaxPooling2D(pool_size = (2,2)))\n",
    "\n",
    "#step 3 - Flattening\n",
    "classifier.add(Flatten())\n",
    "\n",
    "#step 4 - Full Connection\n",
    "classifier.add(Dense(output_dim = 128, activation = 'relu'))\n",
    "classifier.add(Dense(output_dim = 1, activation = 'sigmoid'))\n",
    "\n"
   ]
  },
  {
   "cell_type": "code",
   "execution_count": 13,
   "metadata": {},
   "outputs": [],
   "source": [
    "#compiling the cnn\n",
    "classifier.compile(optimizer = 'adam', loss = 'binary_crossentropy', metrics = ['accuracy'])\n"
   ]
  },
  {
   "cell_type": "code",
   "execution_count": 14,
   "metadata": {},
   "outputs": [],
   "source": [
    "from keras.preprocessing.image import ImageDataGenerator\n",
    "\n",
    "train_datagen = ImageDataGenerator(rescale = 1./255,\n",
    "                                  shear_range = 0.2,\n",
    "                                  zoom_range = 0.2,\n",
    "                                  horizontal_flip = True)\n",
    "\n",
    "test_datagen = ImageDataGenerator(rescale = 1./255)"
   ]
  },
  {
   "cell_type": "code",
   "execution_count": 15,
   "metadata": {},
   "outputs": [
    {
     "name": "stdout",
     "output_type": "stream",
     "text": [
      "Found 22046 images belonging to 2 classes.\n"
     ]
    }
   ],
   "source": [
    "training_set = train_datagen.flow_from_directory('Downloads/cell_images/train',\n",
    "                                                target_size = (64,64),\n",
    "                                                batch_size = 32,\n",
    "                                                class_mode = 'binary')\n"
   ]
  },
  {
   "cell_type": "code",
   "execution_count": 16,
   "metadata": {},
   "outputs": [
    {
     "name": "stdout",
     "output_type": "stream",
     "text": [
      "Found 5512 images belonging to 2 classes.\n"
     ]
    }
   ],
   "source": [
    "test_set = train_datagen.flow_from_directory('Downloads/cell_images/valid',\n",
    "                                                target_size = (64,64),\n",
    "                                                batch_size = 32,\n",
    "                                                class_mode = 'binary')"
   ]
  },
  {
   "cell_type": "code",
   "execution_count": 17,
   "metadata": {},
   "outputs": [
    {
     "name": "stdout",
     "output_type": "stream",
     "text": [
      "Epoch 1/25\n",
      "250/250 [==============================] - 177s 710ms/step - loss: 0.6868 - acc: 0.5402 - val_loss: 0.7222 - val_acc: 0.5092\n",
      "Epoch 2/25\n",
      "250/250 [==============================] - 176s 706ms/step - loss: 0.6672 - acc: 0.5865 - val_loss: 0.7502 - val_acc: 0.5034\n",
      "Epoch 3/25\n",
      "250/250 [==============================] - 173s 690ms/step - loss: 0.6319 - acc: 0.6440 - val_loss: 0.6969 - val_acc: 0.5436\n",
      "Epoch 4/25\n",
      "250/250 [==============================] - 172s 689ms/step - loss: 0.5365 - acc: 0.7324 - val_loss: 0.4351 - val_acc: 0.8096\n",
      "Epoch 5/25\n",
      "250/250 [==============================] - 167s 669ms/step - loss: 0.3648 - acc: 0.8467 - val_loss: 0.2484 - val_acc: 0.9034\n",
      "Epoch 6/25\n",
      "250/250 [==============================] - 174s 697ms/step - loss: 0.2536 - acc: 0.9042 - val_loss: 0.2314 - val_acc: 0.9163\n",
      "Epoch 7/25\n",
      "250/250 [==============================] - 173s 691ms/step - loss: 0.2198 - acc: 0.9210 - val_loss: 0.2125 - val_acc: 0.9213\n",
      "Epoch 8/25\n",
      "250/250 [==============================] - 167s 669ms/step - loss: 0.2061 - acc: 0.9261 - val_loss: 0.2264 - val_acc: 0.9182\n",
      "Epoch 9/25\n",
      "250/250 [==============================] - 167s 670ms/step - loss: 0.1956 - acc: 0.9294 - val_loss: 0.1901 - val_acc: 0.9317\n",
      "Epoch 10/25\n",
      "250/250 [==============================] - 169s 676ms/step - loss: 0.1900 - acc: 0.9327 - val_loss: 0.1791 - val_acc: 0.9382\n",
      "Epoch 11/25\n",
      "250/250 [==============================] - 168s 673ms/step - loss: 0.2016 - acc: 0.9255 - val_loss: 0.1765 - val_acc: 0.9364\n",
      "Epoch 12/25\n",
      "250/250 [==============================] - 171s 685ms/step - loss: 0.1850 - acc: 0.9322 - val_loss: 0.1740 - val_acc: 0.9370\n",
      "Epoch 13/25\n",
      "250/250 [==============================] - 173s 691ms/step - loss: 0.1837 - acc: 0.9337 - val_loss: 0.1700 - val_acc: 0.9410\n",
      "Epoch 14/25\n",
      "250/250 [==============================] - 175s 701ms/step - loss: 0.1813 - acc: 0.9376 - val_loss: 0.1691 - val_acc: 0.9394\n",
      "Epoch 15/25\n",
      "250/250 [==============================] - 170s 681ms/step - loss: 0.1801 - acc: 0.9345 - val_loss: 0.1737 - val_acc: 0.9386\n",
      "Epoch 16/25\n",
      "250/250 [==============================] - 168s 673ms/step - loss: 0.1805 - acc: 0.9356 - val_loss: 0.1652 - val_acc: 0.9409\n",
      "Epoch 17/25\n",
      "250/250 [==============================] - 171s 684ms/step - loss: 0.1819 - acc: 0.9323 - val_loss: 0.1656 - val_acc: 0.9408\n",
      "Epoch 18/25\n",
      "250/250 [==============================] - 173s 691ms/step - loss: 0.1661 - acc: 0.9391 - val_loss: 0.1672 - val_acc: 0.9415\n",
      "Epoch 19/25\n",
      "250/250 [==============================] - 166s 664ms/step - loss: 0.1713 - acc: 0.9402 - val_loss: 0.1717 - val_acc: 0.9412\n",
      "Epoch 20/25\n",
      "250/250 [==============================] - 170s 678ms/step - loss: 0.1777 - acc: 0.9336 - val_loss: 0.1603 - val_acc: 0.9428\n",
      "Epoch 21/25\n",
      "250/250 [==============================] - 169s 674ms/step - loss: 0.1664 - acc: 0.9404 - val_loss: 0.1645 - val_acc: 0.9409\n",
      "Epoch 22/25\n",
      "250/250 [==============================] - 171s 685ms/step - loss: 0.1745 - acc: 0.9342 - val_loss: 0.1807 - val_acc: 0.9405\n",
      "Epoch 23/25\n",
      "250/250 [==============================] - 174s 698ms/step - loss: 0.1715 - acc: 0.9383 - val_loss: 0.1636 - val_acc: 0.9410\n",
      "Epoch 24/25\n",
      "250/250 [==============================] - 167s 669ms/step - loss: 0.1668 - acc: 0.9397 - val_loss: 0.1662 - val_acc: 0.9407\n",
      "Epoch 25/25\n",
      "250/250 [==============================] - 166s 666ms/step - loss: 0.1522 - acc: 0.9439 - val_loss: 0.1584 - val_acc: 0.9421\n"
     ]
    },
    {
     "data": {
      "text/plain": [
       "<keras.callbacks.History at 0x7f5d05e60d50>"
      ]
     },
     "execution_count": 17,
     "metadata": {},
     "output_type": "execute_result"
    }
   ],
   "source": [
    "classifier.fit_generator(training_set,\n",
    "                        samples_per_epoch = 8000,\n",
    "                        nb_epoch = 25,\n",
    "                        validation_data = test_set,\n",
    "                        nb_val_samples = 2000)"
   ]
  },
  {
   "cell_type": "code",
   "execution_count": 18,
   "metadata": {},
   "outputs": [
    {
     "name": "stdout",
     "output_type": "stream",
     "text": [
      "Not infected\n"
     ]
    },
    {
     "data": {
      "text/plain": [
       "<matplotlib.image.AxesImage at 0x7f5d0596f7d0>"
      ]
     },
     "execution_count": 18,
     "metadata": {},
     "output_type": "execute_result"
    }
   ],
   "source": [
    "test_image1 = image.load_img('Downloads/cell_images/random1.png',target_size = (64,64))\n",
    "test_image = image.img_to_array(test_image1)\n",
    "test_image = np.expand_dims(test_image,axis = 0)\n",
    "result = classifier.predict(test_image)\n",
    "if result[0][0] >= 0.5:\n",
    "    prediction = 'Not infected'\n",
    "else :\n",
    "    prediction = 'infected'\n",
    "print(prediction)\n",
    "import matplotlib.pyplot as plt\n",
    "plt.imshow(test_image1)"
   ]
  },
  {
   "cell_type": "code",
   "execution_count": 19,
   "metadata": {},
   "outputs": [
    {
     "name": "stdout",
     "output_type": "stream",
     "text": [
      "infected\n"
     ]
    },
    {
     "data": {
      "text/plain": [
       "<matplotlib.image.AxesImage at 0x7f5d053f6690>"
      ]
     },
     "execution_count": 19,
     "metadata": {},
     "output_type": "execute_result"
    },
    {
     "data": {
      "image/png": "[encoded data removed]",
      "text/plain": [
       "<Figure size 432x288 with 1 Axes>"
      ]
     },
     "metadata": {
      "needs_background": "light"
     },
     "output_type": "display_data"
    }
   ],
   "source": [
    "test_image1 = image.load_img('Downloads/cell_images/random2.png',target_size = (64,64))\n",
    "test_image = image.img_to_array(test_image1)\n",
    "test_image = np.expand_dims(test_image,axis = 0)\n",
    "result = classifier.predict(test_image)\n",
    "if result[0][0] >= 0.5:\n",
    "    prediction = 'Not infected'\n",
    "else :\n",
    "    prediction = 'infected'\n",
    "print(prediction)\n",
    "import matplotlib.pyplot as plt\n",
    "plt.imshow(test_image1)"
   ]
  },
  {
   "cell_type": "code",
   "execution_count": 20,
   "metadata": {},
   "outputs": [
    {
     "name": "stdout",
     "output_type": "stream",
     "text": [
      "Not infected\n"
     ]
    },
    {
     "data": {
      "text/plain": [
       "<matplotlib.image.AxesImage at 0x7f5cef5cb450>"
      ]
     },
     "execution_count": 20,
     "metadata": {},
     "output_type": "execute_result"
    },
    {
     "data": {
      "image/png": "[encoded data removed]",
      "text/plain": [
       "<Figure size 432x288 with 1 Axes>"
      ]
     },
     "metadata": {
      "needs_background": "light"
     },
     "output_type": "display_data"
    }
   ],
   "source": [
    "test_image1 = image.load_img('Downloads/cell_images/random3.png',target_size = (64,64))\n",
    "test_image = image.img_to_array(test_image1)\n",
    "test_image = np.expand_dims(test_image,axis = 0)\n",
    "result = classifier.predict(test_image)\n",
    "if result[0][0] >= 0.5:\n",
    "    prediction = 'Not infected'\n",
    "else :\n",
    "    prediction = 'infected'\n",
    "print(prediction)\n",
    "import matplotlib.pyplot as plt\n",
    "plt.imshow(test_image1)"
   ]
  },
  {
   "cell_type": "code",
   "execution_count": null,
   "metadata": {},
   "outputs": [],
   "source": []
  }
 ],
 "metadata": {
  "kernelspec": {
   "display_name": "Python 2",
   "language": "python",
   "name": "python2"
  },
  "language_info": {
   "codemirror_mode": {
    "name": "ipython",
    "version": 2
   },
   "file_extension": ".py",
   "mimetype": "text/x-python",
   "name": "python",
   "nbconvert_exporter": "python",
   "pygments_lexer": "ipython2",
   "version": "2.7.16"
  }
 },
 "nbformat": 4,
 "nbformat_minor": 2
}
